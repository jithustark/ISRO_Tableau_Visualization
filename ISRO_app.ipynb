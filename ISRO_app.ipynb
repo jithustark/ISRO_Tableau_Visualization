{
 "cells": [
  {
   "cell_type": "code",
   "execution_count": 1,
   "metadata": {},
   "outputs": [],
   "source": [
    "import pandas as pd\n",
    "from datetime import datetime\n",
    "import random\n",
    "import matplotlib.pyplot as plt\n",
    "import seaborn as sns"
   ]
  },
  {
   "cell_type": "code",
   "execution_count": null,
   "metadata": {},
   "outputs": [],
   "source": [
    "# coLLECTING DATA FROM ISRO.GOV\n",
    "communication = pd.read_html(\"https://www.isro.gov.in/applications/satellites-communication\")\n",
    "navigation = pd.read_html(\"https://www.isro.gov.in/applications/satellites-navigation\")"
   ]
  },
  {
   "cell_type": "code",
   "execution_count": null,
   "metadata": {},
   "outputs": [],
   "source": [
    "print(communication[0])\n",
    "print(navigation[0])"
   ]
  },
  {
   "cell_type": "code",
   "execution_count": null,
   "metadata": {},
   "outputs": [],
   "source": [
    "#communication[0].to_csv(\"communication.csv\")\n",
    "#navigation[0].to_csv(\"navigation.csv\")"
   ]
  },
  {
   "cell_type": "code",
   "execution_count": 2,
   "metadata": {},
   "outputs": [],
   "source": [
    "df_comm = pd.read_csv(\"communication.csv\")\n",
    "df_navi = pd.read_csv(\"navigation.csv\")"
   ]
  },
  {
   "cell_type": "code",
   "execution_count": 3,
   "metadata": {},
   "outputs": [],
   "source": [
    "# CONCATNATING THE ALL FILES TO ONE FILE NAMED \"RESULT\"\n",
    "frames = [df_comm,df_navi]\n",
    "isro_app = pd.concat(frames,axis=0,sort=False)"
   ]
  },
  {
   "cell_type": "code",
   "execution_count": 4,
   "metadata": {},
   "outputs": [],
   "source": [
    "# Dropping unwanted columns\n",
    "isro_app.drop(columns=[\"Unnamed: 0\",\"Unnamed: 0.1\",\"Launch Mass\"],inplace=True)\n",
    "# renaming the col names\n",
    "isro_app.rename(index = str, columns={\"Launch Date\":\"Launch_Date\",\"Launch Vehicle\":\"Launch_Vehicle\",\n",
    "                                     \"Orbit Type\":\"Orbit_Type\"},inplace=True)"
   ]
  },
  {
   "cell_type": "code",
   "execution_count": 5,
   "metadata": {},
   "outputs": [
    {
     "data": {
      "text/html": [
       "<div>\n",
       "<style scoped>\n",
       "    .dataframe tbody tr th:only-of-type {\n",
       "        vertical-align: middle;\n",
       "    }\n",
       "\n",
       "    .dataframe tbody tr th {\n",
       "        vertical-align: top;\n",
       "    }\n",
       "\n",
       "    .dataframe thead th {\n",
       "        text-align: right;\n",
       "    }\n",
       "</style>\n",
       "<table border=\"1\" class=\"dataframe\">\n",
       "  <thead>\n",
       "    <tr style=\"text-align: right;\">\n",
       "      <th></th>\n",
       "      <th>Launch_Date</th>\n",
       "      <th>Launch_Vehicle</th>\n",
       "      <th>Orbit_Type</th>\n",
       "      <th>Application</th>\n",
       "      <th>Remarks</th>\n",
       "    </tr>\n",
       "  </thead>\n",
       "  <tbody>\n",
       "    <tr>\n",
       "      <th>0</th>\n",
       "      <td>Dec 19, 2018</td>\n",
       "      <td>GSLV-F11 / GSAT-7A Mission</td>\n",
       "      <td>NaN</td>\n",
       "      <td>Communication</td>\n",
       "      <td>NaN</td>\n",
       "    </tr>\n",
       "    <tr>\n",
       "      <th>1</th>\n",
       "      <td>Dec 05, 2018</td>\n",
       "      <td>Ariane-5 VA-246</td>\n",
       "      <td>GTO</td>\n",
       "      <td>Communication</td>\n",
       "      <td>NaN</td>\n",
       "    </tr>\n",
       "    <tr>\n",
       "      <th>2</th>\n",
       "      <td>Nov 14, 2018</td>\n",
       "      <td>GSLV Mk III-D2 / GSAT-29 Mission</td>\n",
       "      <td>GTO</td>\n",
       "      <td>Communication</td>\n",
       "      <td>NaN</td>\n",
       "    </tr>\n",
       "    <tr>\n",
       "      <th>3</th>\n",
       "      <td>Mar 29, 2018</td>\n",
       "      <td>GSLV-F08/GSAT-6A Mission</td>\n",
       "      <td>GSO</td>\n",
       "      <td>Communication</td>\n",
       "      <td>NaN</td>\n",
       "    </tr>\n",
       "    <tr>\n",
       "      <th>4</th>\n",
       "      <td>Jun 29, 2017</td>\n",
       "      <td>Ariane-5 VA-238</td>\n",
       "      <td>GTO</td>\n",
       "      <td>Communication</td>\n",
       "      <td>NaN</td>\n",
       "    </tr>\n",
       "  </tbody>\n",
       "</table>\n",
       "</div>"
      ],
      "text/plain": [
       "    Launch_Date                    Launch_Vehicle Orbit_Type    Application  \\\n",
       "0  Dec 19, 2018        GSLV-F11 / GSAT-7A Mission        NaN  Communication   \n",
       "1  Dec 05, 2018                   Ariane-5 VA-246        GTO  Communication   \n",
       "2  Nov 14, 2018  GSLV Mk III-D2 / GSAT-29 Mission        GTO  Communication   \n",
       "3  Mar 29, 2018          GSLV-F08/GSAT-6A Mission        GSO  Communication   \n",
       "4  Jun 29, 2017                   Ariane-5 VA-238        GTO  Communication   \n",
       "\n",
       "  Remarks  \n",
       "0     NaN  \n",
       "1     NaN  \n",
       "2     NaN  \n",
       "3     NaN  \n",
       "4     NaN  "
      ]
     },
     "execution_count": 5,
     "metadata": {},
     "output_type": "execute_result"
    }
   ],
   "source": [
    "isro_app.head()"
   ]
  },
  {
   "cell_type": "code",
   "execution_count": 6,
   "metadata": {},
   "outputs": [
    {
     "name": "stdout",
     "output_type": "stream",
     "text": [
      "<class 'pandas.core.frame.DataFrame'>\n",
      "Index: 53 entries, 0 to 11\n",
      "Data columns (total 5 columns):\n",
      "Launch_Date       53 non-null object\n",
      "Launch_Vehicle    53 non-null object\n",
      "Orbit_Type        51 non-null object\n",
      "Application       53 non-null object\n",
      "Remarks           7 non-null object\n",
      "dtypes: object(5)\n",
      "memory usage: 2.5+ KB\n"
     ]
    }
   ],
   "source": [
    "isro_app.info()"
   ]
  },
  {
   "cell_type": "code",
   "execution_count": 7,
   "metadata": {},
   "outputs": [
    {
     "data": {
      "text/plain": [
       "Launch_Date        0\n",
       "Launch_Vehicle     0\n",
       "Orbit_Type         2\n",
       "Application        0\n",
       "Remarks           46\n",
       "dtype: int64"
      ]
     },
     "execution_count": 7,
     "metadata": {},
     "output_type": "execute_result"
    }
   ],
   "source": [
    "isro_app.isnull().sum()"
   ]
  },
  {
   "cell_type": "code",
   "execution_count": 8,
   "metadata": {},
   "outputs": [],
   "source": [
    "# CHANGING THE DATE COLUMN\n",
    "isro_app[\"Launch_Date\"] = isro_app[\"Launch_Date\"].astype(\"datetime64[ns]\")\n",
    "# REPLACING THE NAN VALUES\n",
    "isro_app.Remarks.fillna(\"Mission successful\",inplace=True)\n",
    "isro_app[\"Orbit_Type\"].fillna(method=\"ffill\",inplace=True)"
   ]
  },
  {
   "cell_type": "code",
   "execution_count": 9,
   "metadata": {},
   "outputs": [],
   "source": [
    "isro_app[\"Name\"],isro_app[\"Model\"] = isro_app[\"Launch_Vehicle\"].str.split(\"-\",1).str"
   ]
  },
  {
   "cell_type": "code",
   "execution_count": 10,
   "metadata": {},
   "outputs": [],
   "source": [
    "isro_app[\"year\"] = isro_app[\"Launch_Date\"].dt.year\n",
    "isro_app[\"month\"] = isro_app[\"Launch_Date\"].dt.month"
   ]
  },
  {
   "cell_type": "code",
   "execution_count": 11,
   "metadata": {},
   "outputs": [],
   "source": [
    "# Dropping unwanted columns\n",
    "isro_app.drop(columns=[\"Launch_Vehicle\",\"Model\"],inplace=True)"
   ]
  },
  {
   "cell_type": "code",
   "execution_count": 12,
   "metadata": {},
   "outputs": [
    {
     "data": {
      "text/html": [
       "<div>\n",
       "<style scoped>\n",
       "    .dataframe tbody tr th:only-of-type {\n",
       "        vertical-align: middle;\n",
       "    }\n",
       "\n",
       "    .dataframe tbody tr th {\n",
       "        vertical-align: top;\n",
       "    }\n",
       "\n",
       "    .dataframe thead th {\n",
       "        text-align: right;\n",
       "    }\n",
       "</style>\n",
       "<table border=\"1\" class=\"dataframe\">\n",
       "  <thead>\n",
       "    <tr style=\"text-align: right;\">\n",
       "      <th></th>\n",
       "      <th>Launch_Date</th>\n",
       "      <th>Orbit_Type</th>\n",
       "      <th>Application</th>\n",
       "      <th>Remarks</th>\n",
       "      <th>Name</th>\n",
       "      <th>year</th>\n",
       "      <th>month</th>\n",
       "    </tr>\n",
       "  </thead>\n",
       "  <tbody>\n",
       "    <tr>\n",
       "      <th>0</th>\n",
       "      <td>2018-12-19</td>\n",
       "      <td>NaN</td>\n",
       "      <td>Communication</td>\n",
       "      <td>Mission successful</td>\n",
       "      <td>GSLV</td>\n",
       "      <td>2018</td>\n",
       "      <td>12</td>\n",
       "    </tr>\n",
       "    <tr>\n",
       "      <th>1</th>\n",
       "      <td>2018-12-05</td>\n",
       "      <td>GTO</td>\n",
       "      <td>Communication</td>\n",
       "      <td>Mission successful</td>\n",
       "      <td>Ariane</td>\n",
       "      <td>2018</td>\n",
       "      <td>12</td>\n",
       "    </tr>\n",
       "    <tr>\n",
       "      <th>2</th>\n",
       "      <td>2018-11-14</td>\n",
       "      <td>GTO</td>\n",
       "      <td>Communication</td>\n",
       "      <td>Mission successful</td>\n",
       "      <td>GSLV Mk III</td>\n",
       "      <td>2018</td>\n",
       "      <td>11</td>\n",
       "    </tr>\n",
       "    <tr>\n",
       "      <th>3</th>\n",
       "      <td>2018-03-29</td>\n",
       "      <td>GSO</td>\n",
       "      <td>Communication</td>\n",
       "      <td>Mission successful</td>\n",
       "      <td>GSLV</td>\n",
       "      <td>2018</td>\n",
       "      <td>3</td>\n",
       "    </tr>\n",
       "    <tr>\n",
       "      <th>4</th>\n",
       "      <td>2017-06-29</td>\n",
       "      <td>GTO</td>\n",
       "      <td>Communication</td>\n",
       "      <td>Mission successful</td>\n",
       "      <td>Ariane</td>\n",
       "      <td>2017</td>\n",
       "      <td>6</td>\n",
       "    </tr>\n",
       "  </tbody>\n",
       "</table>\n",
       "</div>"
      ],
      "text/plain": [
       "  Launch_Date Orbit_Type    Application             Remarks         Name  \\\n",
       "0  2018-12-19        NaN  Communication  Mission successful         GSLV   \n",
       "1  2018-12-05        GTO  Communication  Mission successful       Ariane   \n",
       "2  2018-11-14        GTO  Communication  Mission successful  GSLV Mk III   \n",
       "3  2018-03-29        GSO  Communication  Mission successful         GSLV   \n",
       "4  2017-06-29        GTO  Communication  Mission successful       Ariane   \n",
       "\n",
       "   year  month  \n",
       "0  2018     12  \n",
       "1  2018     12  \n",
       "2  2018     11  \n",
       "3  2018      3  \n",
       "4  2017      6  "
      ]
     },
     "execution_count": 12,
     "metadata": {},
     "output_type": "execute_result"
    }
   ],
   "source": [
    "isro_app.head()"
   ]
  },
  {
   "cell_type": "code",
   "execution_count": 13,
   "metadata": {},
   "outputs": [
    {
     "data": {
      "text/plain": [
       "<matplotlib.axes._subplots.AxesSubplot at 0x22110639358>"
      ]
     },
     "execution_count": 13,
     "metadata": {},
     "output_type": "execute_result"
    },
    {
     "data": {
      "image/png": "[encoded data removed]",
      "text/plain": [
       "<Figure size 432x288 with 1 Axes>"
      ]
     },
     "metadata": {},
     "output_type": "display_data"
    }
   ],
   "source": [
    "isro_app.Remarks.value_counts().plot(kind=\"pie\",startangle = 180,radius=1.10,autopct=\"%0.0f%%\",shadow=True)"
   ]
  },
  {
   "cell_type": "code",
   "execution_count": 14,
   "metadata": {},
   "outputs": [],
   "source": [
    "isro_app.to_csv(\"isro_ap.csv\")"
   ]
  },
  {
   "cell_type": "code",
   "execution_count": 15,
   "metadata": {},
   "outputs": [
    {
     "data": {
      "text/plain": [
       "array(['Communication', 'Communication, Navigation',\n",
       "       'Climate & Environment, Communication',\n",
       "       'Communication, Experimental', 'Navigation'], dtype=object)"
      ]
     },
     "execution_count": 15,
     "metadata": {},
     "output_type": "execute_result"
    }
   ],
   "source": [
    "isro_app.Application.unique()"
   ]
  },
  {
   "cell_type": "code",
   "execution_count": null,
   "metadata": {},
   "outputs": [],
   "source": []
  }
 ],
 "metadata": {
  "kernelspec": {
   "display_name": "Python 3",
   "language": "python",
   "name": "python3"
  },
  "language_info": {
   "codemirror_mode": {
    "name": "ipython",
    "version": 3
   },
   "file_extension": ".py",
   "mimetype": "text/x-python",
   "name": "python",
   "nbconvert_exporter": "python",
   "pygments_lexer": "ipython3",
   "version": "3.7.1"
  }
 },
 "nbformat": 4,
 "nbformat_minor": 2
}
